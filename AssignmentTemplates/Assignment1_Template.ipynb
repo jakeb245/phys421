{
 "cells": [
  {
   "cell_type": "markdown",
   "metadata": {},
   "source": [
    "# Assignment 1"
   ]
  },
  {
   "cell_type": "markdown",
   "metadata": {},
   "source": [
    "## Question 1 - Root finding using bisection method"
   ]
  },
  {
   "cell_type": "markdown",
   "metadata": {},
   "source": [
    "Begin by considering the polynomial:\n",
    "\n",
    "$f(x) = 1.80 - 4.05x + 0.40x^2 + x^3 + x^4$\n",
    "\n",
    "a)\tCalculate the roots of this polynomial using the bisection algorithm. You can start with the file called root_find_basic.ipynb and then modify as appropriate.  The program should $start$ by filling an array of 10,000 data points between $x=-4.0$ and $x=4.0$.  Based on where the roots are, and how many there are, you may want to adjust these lower and upper limits.\n",
    "\n",
    "Then, the program should do a sparse search of this array, i.e. once every n_search elements, to look for sign changes, and subsequently using the bisection algorithm to find the root.  The program should also keep track of the time taken to find the roots.\n",
    "\n",
    "b)\tCreate a plot of the time taken to find the roots vs. the sparsification size (npts_per_slice), for npts_per_slice values between 1 and 10,000.  You can start with root_find_complete.ipynb and then modify it.\n",
    "\n",
    "c)\tDeduce the source of the various patterns that you observe in part b).  Hint:  You might consider adjusting the number of data points in the original array, as well as the coefficients of the polynomial, slightly.  HINT:  Compare the patterns that you see for limits of (-4.0,4.0), (0.0,1.5), and (0.0,1.0), using 10000 data points for each."
   ]
  },
  {
   "cell_type": "code",
   "execution_count": 1,
   "metadata": {},
   "outputs": [],
   "source": [
    "import numpy as np\n",
    "import matplotlib.pyplot as plt\n",
    "import time"
   ]
  },
  {
   "cell_type": "code",
   "execution_count": 12,
   "metadata": {},
   "outputs": [],
   "source": [
    "def generator_function(x,*par):\n",
    "    return par[0]+par[1]*x+par[2]*x*x+par[3]*x*x*x+par[4]*x*x*x*x\n",
    "\n",
    "xl = 0.0\n",
    "xh = 1.\n",
    "\n",
    "npoints = 10000\n",
    "dx = (xh-xl)/npoints\n",
    "\n",
    "xroots = []\n",
    "yroots = []\n",
    "\n",
    "par = np.array([1.80,-4.05,0.40,1,1])\n",
    "xval = np.arange(xl,xh,dx)\n",
    "yval = generator_function(xval,*par)"
   ]
  },
  {
   "cell_type": "code",
   "execution_count": 13,
   "metadata": {},
   "outputs": [
    {
     "name": "stdout",
     "output_type": "stream",
     "text": [
      "1 0.0 0.0999 1.8 1.4004936075986003\n",
      "2 0.0999 0.19990000000000002 1.4004936075986003 1.0159738123982003\n",
      "3 0.19990000000000002 0.2999 1.0159738123982003 0.6564432183978003\n",
      "4 0.2999 0.39990000000000003 0.6564432183978003 0.3338994255974001\n",
      "5 0.39990000000000003 0.4999 0.3338994255974001 0.06274003399700004\n",
      "6 0.4999 0.5999 0.06274003399700004 -0.14023735640339988\n",
      "Found root at x = 0.527108\n",
      "\n",
      "7 0.5999 0.6999000000000001 -0.14023735640339988 -0.25583514560379983\n",
      "8 0.6999000000000001 0.7999 -0.25583514560379983 -0.2624557336041995\n",
      "9 0.7999 0.8999 -0.2624557336041995 -0.13610152040459944\n",
      "10 0.8999 0.9999 -0.13610152040459944 0.14962509399500024\n",
      "Found root at x = 0.955057\n",
      "\n",
      "Total number of roots found = 2\n",
      "\n",
      "Total time =  0.0023651123046875\n"
     ]
    }
   ],
   "source": [
    "start = time.time()\n",
    "\n",
    "# Define the number of data points in each of the \"slices\" in x in which we will look for roots.\n",
    "nsearch = 1000\n",
    "\n",
    "# calculate the number of slices\n",
    "niter = (int)(npoints/nsearch)\n",
    "\n",
    "# use the left most data point in the first slice as the comparison point, and keep track of the number of roots found\n",
    "ycomp = yval[0]\n",
    "xcomp = xval[0]\n",
    "nroots_found = 0\n",
    "\n",
    "# loop over the slices\n",
    "for i in range(1,int(niter)+1):\n",
    "    # Begin at the right most data point in the slice \n",
    "    #print (i)\n",
    "    y = yval[nsearch*i-1]\n",
    "    x = xval[nsearch*i-1]\n",
    "    print(i,xcomp,x,ycomp,y)\n",
    "\n",
    "    # Check to see if we got lucky and landed on an exact zero of the function\n",
    "    if (y==0):\n",
    "        print (\"Found exact root at x = %f\\n\" % x)\n",
    "        xroots.append(x)\n",
    "        yroots.append(0.0)\n",
    "        nroots_found = nroots_found + 1\n",
    "    # Otherwise, check to see if there is a root in between the left and right comparison points\n",
    "    if (y*ycomp<0.0):\n",
    "        # There is a root in the interval, so apply bisection method\n",
    "        #\n",
    "        # First, get the x-values of the left and right ends of the slice\n",
    "\n",
    "        #print (y,ycomp)\n",
    "\n",
    "        xlow = xcomp\n",
    "        xhigh = x\n",
    "        # define a \"tolerance\" at which point we will say we have found a zero\n",
    "        epsilon = 1.0E-6\n",
    "\n",
    "        diff = 1.0E12\n",
    "        n_eps_iter = 0\n",
    "        while (diff>epsilon and n_eps_iter < 1000):\n",
    "            #print (\"in epsilon loop\")\n",
    "            # Calculate the function values at the left, right, and midpoints of the slice\n",
    "            fa = generator_function(xlow,*par)\n",
    "            fb = generator_function(xhigh,*par)\n",
    "            xmid = (xhigh+xlow)/2.0\n",
    "            fc = generator_function(xmid,*par)\n",
    "            #print (fa,fb,fc)\n",
    "            #print (xlow,xhigh,xmid)\n",
    "\n",
    "            # Decide if the root is in the left half or right half of the interval, and redefine\n",
    "            # the x interval accordingly\n",
    "            product = fa*fc\n",
    "            if (product < 0):\n",
    "                xhigh = xmid\n",
    "            else:\n",
    "                xlow = xmid\n",
    "\n",
    "            # update the difference value\n",
    "            diff = np.abs(fc)\n",
    "            n_eps_iter = n_eps_iter + 1\n",
    "\n",
    "        print (\"Found root at x = %f\\n\" % xmid)\n",
    "        xroots.append(xmid)\n",
    "        yroots.append(0.0)\n",
    "        nroots_found = nroots_found + 1\n",
    "\n",
    "        # move to the next slice\n",
    "        ycomp = y\n",
    "        xcomp = x\n",
    "    else:\n",
    "        # move to the next slice\n",
    "        ycomp = y\n",
    "        xcomp = x\n",
    "\n",
    "print (\"Total number of roots found = %d\\n\" % nroots_found)\n",
    "\n",
    "end = time.time()\n",
    "print(\"Total time = \",(end - start))\n",
    "time_ejb = (end-start)"
   ]
  },
  {
   "cell_type": "code",
   "execution_count": 17,
   "metadata": {},
   "outputs": [
    {
     "name": "stdout",
     "output_type": "stream",
     "text": [
      "Found root at x = 0.527108\n",
      "\n",
      "Found root at x = 0.955057\n",
      "\n",
      "Total number of roots found = 2\n",
      "\n"
     ]
    },
    {
     "name": "stderr",
     "output_type": "stream",
     "text": [
      "/var/folders/bs/73jxx43j03b35j6l68xn_t3r0000gn/T/ipykernel_12744/328414558.py:90: UserWarning: Attempted to set non-positive left xlim on a log-scaled axis.\n",
      "Invalid limit will be ignored.\n",
      "  axs.set_xlim(0,10000)\n"
     ]
    },
    {
     "data": {
      "image/png": "[encoded data removed]",
      "text/plain": [
       "<Figure size 1200x1200 with 1 Axes>"
      ]
     },
     "metadata": {},
     "output_type": "display_data"
    }
   ],
   "source": [
    "# Part b\n",
    "\n",
    "xroots = []\n",
    "yroots = []\n",
    "\n",
    "# create list to hold values for plotting\n",
    "#\n",
    "# xstep will hold the number of slices\n",
    "# xstep2 will hold the number of data points per slice\n",
    "\n",
    "xstep = []\n",
    "ystep = []\n",
    "xstep2 = []\n",
    "\n",
    "nroots_expected = 2\n",
    "\n",
    "# Loop over various possibilities for the number of data points per slice (npts_per_slice)\n",
    "for npts_per_slice in range(1,int(npoints)):\n",
    "    \n",
    "    start = time.time()\n",
    "\n",
    "    # Calculate number of slices\n",
    "    nslice = npoints/npts_per_slice\n",
    "    \n",
    "    ycomp = yval[0]\n",
    "    xcomp = xval[0]\n",
    "    nroots_found = 0\n",
    "\n",
    "    # Loop over the slices, looking for possible roots in each slice\n",
    "    for i in range(1,int(nslice)+1):\n",
    "        y = yval[npts_per_slice*i-1]\n",
    "        x = xval[npts_per_slice*i-1]\n",
    "        \n",
    "        if (y==0):\n",
    "            if (npts_per_slice == 1):\n",
    "                print (\"Found exact root at x = %f\\n\" % x)\n",
    "            nroots_found = nroots_found + 1\n",
    "            \n",
    "        if (y*ycomp<0.0):\n",
    "            xlow = xcomp\n",
    "            xhigh = x\n",
    "            epsilon = 1.0E-10\n",
    "            diff = 1.0E12\n",
    "            while (diff>epsilon):\n",
    "                fa = generator_function(xlow,*par)\n",
    "                fb = generator_function(xhigh,*par)\n",
    "                xmid = (xhigh+xlow)/2.0\n",
    "                fc = generator_function(xmid,*par)\n",
    "                product = fa*fc\n",
    "                if (product < 0):\n",
    "                    xhigh = xmid\n",
    "                else:\n",
    "                    xlow = xmid\n",
    "\n",
    "                diff = np.abs(fc)\n",
    "\n",
    "            if (npts_per_slice == 1):\n",
    "                print (\"Found root at x = %f\\n\" % xmid)\n",
    "            nroots_found = nroots_found + 1\n",
    "            ycomp = y\n",
    "            xcomp = x\n",
    "        else:\n",
    "            ycomp = y\n",
    "            xcomp = x\n",
    "\n",
    "    if (npts_per_slice == 1):\n",
    "        print (\"Total number of roots found = %d\\n\" % nroots_found)\n",
    "    \n",
    "    xstep.append(nslice)\n",
    "    xstep2.append(npts_per_slice)\n",
    "    \n",
    "    end = time.time()\n",
    "    \n",
    "    if (nroots_found == nroots_expected):\n",
    "        ystep.append(1000.0*(end-start))\n",
    "    else:\n",
    "        ystep.append(30)\n",
    "\n",
    "# Generate the figure and the axes \n",
    "fig, axs = plt.subplots(nrows=1, ncols=1, figsize=(12,12)) \n",
    "\n",
    "# On the first axis, plot the sine and label the ordinate\n",
    "plt.yscale('log')\n",
    "plt.xscale('log')\n",
    "axs.plot(xstep,ystep,'.')\n",
    "axs.set_ylabel('Time (ms)')\n",
    "axs.set_xlabel('Number of Slices')\n",
    "axs.axhline()\n",
    "plt.grid(True)\n",
    "axs.set_xlim(0,10000)\n",
    "plt.show()"
   ]
  },
  {
   "cell_type": "markdown",
   "metadata": {},
   "source": [
    "### Part c)\n",
    "\n",
    "In the graph for part b), it looks like the time is spiking to a constant (30ms) in the lower number of slices. This is not quite the case. These times are when the algorithm fails to find a root, so the code sets the time taken as 30ms. Why is the code failing at certain numbers of slices?"
   ]
  },
  {
   "cell_type": "markdown",
   "metadata": {},
   "source": [
    "## Question 2 - Fitting data"
   ]
  },
  {
   "cell_type": "markdown",
   "metadata": {},
   "source": [
    "a) Go to the following site and retrieve data on the density of air as a function of altitude:\n",
    "\n",
    "http://www.engineeringtoolbox.com/standard-atmosphere-d_604.html\n",
    "\n",
    "Make sure to use the second table, in SI units.  \n",
    "\n",
    "b) Modify the Jupyter Notebook that we went through in class for Non-Linear Fitting to fit the density data as a function of altitude using a function of the form:\n",
    "\n",
    "$f(x)= Ae^{Bx+C\\sqrt{x}}$\n",
    "\n",
    "c) Determine the parameters A, B, and C, as well as the uncertainties on these parameters.\n",
    "\n",
    "d) Plot the fit, including 95% confidence interval error bands, along with the data.  What is your evaluation of the quality of the fit?  Can you think of a different approach that might yield a better fit?"
   ]
  },
  {
   "cell_type": "code",
   "execution_count": 5,
   "metadata": {},
   "outputs": [],
   "source": [
    "# Use file in JupyterNotebooks\n",
    "# Split exponentials\n",
    "# Guess initial parameters based on data\n",
    "# Try plotting results on log scale\n",
    "# Account for error bars in fitting\n",
    "# Assign half of smallest digit uncertainty for each point"
   ]
  },
  {
   "cell_type": "code",
   "execution_count": null,
   "metadata": {},
   "outputs": [],
   "source": []
  }
 ],
 "metadata": {
  "kernelspec": {
   "display_name": "Python 3 (ipykernel)",
   "language": "python",
   "name": "python3"
  },
  "language_info": {
   "codemirror_mode": {
    "name": "ipython",
    "version": 3
   },
   "file_extension": ".py",
   "mimetype": "text/x-python",
   "name": "python",
   "nbconvert_exporter": "python",
   "pygments_lexer": "ipython3",
   "version": "3.10.6"
  }
 },
 "nbformat": 4,
 "nbformat_minor": 4
}
