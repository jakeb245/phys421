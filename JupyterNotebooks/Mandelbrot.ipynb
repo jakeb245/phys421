{
 "cells": [
  {
   "cell_type": "code",
   "execution_count": 1,
   "metadata": {},
   "outputs": [],
   "source": [
    "import matplotlib.pyplot as plt\n",
    "import numpy as np\n",
    "\n",
    "def get_iter(c:complex, thresh:int =4, max_steps:int =25) -> int:\n",
    "    # Z_(n) = (Z_(n-1))^2 + c\n",
    "    # Z_(0) = c\n",
    "    z=c\n",
    "    i=1\n",
    "    while i<max_steps and (z*z.conjugate()).real<thresh:\n",
    "        z=z*z +c\n",
    "        i+=1\n",
    "    return i"
   ]
  },
  {
   "cell_type": "code",
   "execution_count": 2,
   "metadata": {},
   "outputs": [],
   "source": [
    "def plotter(n, thresh, max_steps=25):\n",
    "    mx = 2.48 / (n-1)\n",
    "    my = 2.26 / (n-1)\n",
    "    mapper = lambda x,y: (mx*x - 2, my*y - 1.13)\n",
    "    img=np.full((n,n), 255)\n",
    "    for x in range(n):\n",
    "        for y in range(n):\n",
    "            it = get_iter(complex(*mapper(x,y)), thresh=thresh, max_steps=max_steps)\n",
    "            img[y][x] = 255 - it\n",
    "    return img"
   ]
  },
  {
   "cell_type": "code",
   "execution_count": null,
   "metadata": {},
   "outputs": [],
   "source": [
    "n=10000\n",
    "img = plotter(n, thresh=4, max_steps=50)\n",
    "plt.imshow(img, cmap=\"plasma\")\n",
    "plt.axis(\"off\")\n",
    "plt.show()"
   ]
  },
  {
   "cell_type": "code",
   "execution_count": null,
   "metadata": {},
   "outputs": [],
   "source": []
  }
 ],
 "metadata": {
  "kernelspec": {
   "display_name": "Python 3 (ipykernel)",
   "language": "python",
   "name": "python3"
  },
  "language_info": {
   "codemirror_mode": {
    "name": "ipython",
    "version": 3
   },
   "file_extension": ".py",
   "mimetype": "text/x-python",
   "name": "python",
   "nbconvert_exporter": "python",
   "pygments_lexer": "ipython3",
   "version": "3.10.6"
  }
 },
 "nbformat": 4,
 "nbformat_minor": 4
}
